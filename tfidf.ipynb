{
 "cells": [
  {
   "cell_type": "code",
   "execution_count": 1,
   "metadata": {},
   "outputs": [],
   "source": [
    "import pandas as pd\n",
    "filepath = 'news_data/news_data_preprocessed.csv'  \n",
    "df = pd.read_csv(filepath)"
   ]
  },
  {
   "cell_type": "code",
   "execution_count": 2,
   "metadata": {},
   "outputs": [
    {
     "name": "stdout",
     "output_type": "stream",
     "text": [
      "Requirement already satisfied: gensim in /Users/ange/opt/anaconda3/envs/nlp/lib/python3.11/site-packages (4.3.0)\n",
      "Requirement already satisfied: numpy>=1.18.5 in /Users/ange/opt/anaconda3/envs/nlp/lib/python3.11/site-packages (from gensim) (1.24.3)\n",
      "Requirement already satisfied: scipy>=1.7.0 in /Users/ange/opt/anaconda3/envs/nlp/lib/python3.11/site-packages (from gensim) (1.11.3)\n",
      "Requirement already satisfied: smart-open>=1.8.1 in /Users/ange/opt/anaconda3/envs/nlp/lib/python3.11/site-packages (from gensim) (5.2.1)\n",
      "Collecting FuzzyTM>=0.4.0 (from gensim)\n",
      "  Downloading FuzzyTM-2.0.5-py3-none-any.whl (29 kB)\n",
      "Requirement already satisfied: pandas in /Users/ange/opt/anaconda3/envs/nlp/lib/python3.11/site-packages (from FuzzyTM>=0.4.0->gensim) (2.1.2)\n",
      "Collecting pyfume (from FuzzyTM>=0.4.0->gensim)\n",
      "  Downloading pyFUME-0.2.25-py3-none-any.whl (67 kB)\n",
      "\u001b[2K     \u001b[90m━━━━━━━━━━━━━━━━━━━━━━━━━━━━━━━━━━━━━━━━\u001b[0m \u001b[32m67.1/67.1 kB\u001b[0m \u001b[31m1.8 MB/s\u001b[0m eta \u001b[36m0:00:00\u001b[0m\n",
      "\u001b[?25hRequirement already satisfied: python-dateutil>=2.8.2 in /Users/ange/opt/anaconda3/envs/nlp/lib/python3.11/site-packages (from pandas->FuzzyTM>=0.4.0->gensim) (2.8.2)\n",
      "Requirement already satisfied: pytz>=2020.1 in /Users/ange/opt/anaconda3/envs/nlp/lib/python3.11/site-packages (from pandas->FuzzyTM>=0.4.0->gensim) (2023.3.post1)\n",
      "Requirement already satisfied: tzdata>=2022.1 in /Users/ange/opt/anaconda3/envs/nlp/lib/python3.11/site-packages (from pandas->FuzzyTM>=0.4.0->gensim) (2023.3)\n",
      "Collecting simpful (from pyfume->FuzzyTM>=0.4.0->gensim)\n",
      "  Downloading simpful-2.11.0-py3-none-any.whl (32 kB)\n",
      "Collecting fst-pso (from pyfume->FuzzyTM>=0.4.0->gensim)\n",
      "  Downloading fst-pso-1.8.1.tar.gz (18 kB)\n",
      "  Preparing metadata (setup.py) ... \u001b[?25ldone\n",
      "\u001b[?25hRequirement already satisfied: six>=1.5 in /Users/ange/opt/anaconda3/envs/nlp/lib/python3.11/site-packages (from python-dateutil>=2.8.2->pandas->FuzzyTM>=0.4.0->gensim) (1.16.0)\n",
      "Collecting miniful (from fst-pso->pyfume->FuzzyTM>=0.4.0->gensim)\n",
      "  Downloading miniful-0.0.6.tar.gz (2.8 kB)\n",
      "  Preparing metadata (setup.py) ... \u001b[?25ldone\n",
      "\u001b[?25hBuilding wheels for collected packages: fst-pso, miniful\n",
      "  Building wheel for fst-pso (setup.py) ... \u001b[?25ldone\n",
      "\u001b[?25h  Created wheel for fst-pso: filename=fst_pso-1.8.1-py3-none-any.whl size=20430 sha256=6f0bc50b0492a3b3de20b6b765487abcd3f54683f37aa9dbc40c7ee72903bc79\n",
      "  Stored in directory: /Users/ange/Library/Caches/pip/wheels/69/f5/e5/18ad53fe1ed6b2af9fad05ec052e4acbac8e92441df44bad2e\n",
      "  Building wheel for miniful (setup.py) ... \u001b[?25ldone\n",
      "\u001b[?25h  Created wheel for miniful: filename=miniful-0.0.6-py3-none-any.whl size=3507 sha256=ad0988768c8a305e13ea1451619a944a84a8341a48af972fbce61231ab910ef2\n",
      "  Stored in directory: /Users/ange/Library/Caches/pip/wheels/9d/ff/2f/afe4cd56f47de147407705626517d68bea0f3b74eb1fb168e6\n",
      "Successfully built fst-pso miniful\n",
      "Installing collected packages: simpful, miniful, fst-pso, pyfume, FuzzyTM\n",
      "Successfully installed FuzzyTM-2.0.5 fst-pso-1.8.1 miniful-0.0.6 pyfume-0.2.25 simpful-2.11.0\n",
      "Requirement already satisfied: tqdm in /Users/ange/opt/anaconda3/envs/nlp/lib/python3.11/site-packages (4.65.0)\n",
      "Requirement already satisfied: scikit-learn in /Users/ange/opt/anaconda3/envs/nlp/lib/python3.11/site-packages (1.3.0)\n",
      "Requirement already satisfied: numpy>=1.17.3 in /Users/ange/opt/anaconda3/envs/nlp/lib/python3.11/site-packages (from scikit-learn) (1.24.3)\n",
      "Requirement already satisfied: scipy>=1.5.0 in /Users/ange/opt/anaconda3/envs/nlp/lib/python3.11/site-packages (from scikit-learn) (1.11.3)\n",
      "Requirement already satisfied: joblib>=1.1.1 in /Users/ange/opt/anaconda3/envs/nlp/lib/python3.11/site-packages (from scikit-learn) (1.2.0)\n",
      "Requirement already satisfied: threadpoolctl>=2.0.0 in /Users/ange/opt/anaconda3/envs/nlp/lib/python3.11/site-packages (from scikit-learn) (2.2.0)\n",
      "Requirement already satisfied: matplotlib in /Users/ange/opt/anaconda3/envs/nlp/lib/python3.11/site-packages (3.7.2)\n",
      "Requirement already satisfied: contourpy>=1.0.1 in /Users/ange/opt/anaconda3/envs/nlp/lib/python3.11/site-packages (from matplotlib) (1.0.5)\n",
      "Requirement already satisfied: cycler>=0.10 in /Users/ange/opt/anaconda3/envs/nlp/lib/python3.11/site-packages (from matplotlib) (0.11.0)\n",
      "Requirement already satisfied: fonttools>=4.22.0 in /Users/ange/opt/anaconda3/envs/nlp/lib/python3.11/site-packages (from matplotlib) (4.25.0)\n",
      "Requirement already satisfied: kiwisolver>=1.0.1 in /Users/ange/opt/anaconda3/envs/nlp/lib/python3.11/site-packages (from matplotlib) (1.4.4)\n",
      "Requirement already satisfied: numpy>=1.20 in /Users/ange/opt/anaconda3/envs/nlp/lib/python3.11/site-packages (from matplotlib) (1.24.3)\n",
      "Requirement already satisfied: packaging>=20.0 in /Users/ange/opt/anaconda3/envs/nlp/lib/python3.11/site-packages (from matplotlib) (23.1)\n",
      "Requirement already satisfied: pillow>=6.2.0 in /Users/ange/opt/anaconda3/envs/nlp/lib/python3.11/site-packages (from matplotlib) (10.0.1)\n",
      "Requirement already satisfied: pyparsing<3.1,>=2.3.1 in /Users/ange/opt/anaconda3/envs/nlp/lib/python3.11/site-packages (from matplotlib) (3.0.9)\n",
      "Requirement already satisfied: python-dateutil>=2.7 in /Users/ange/opt/anaconda3/envs/nlp/lib/python3.11/site-packages (from matplotlib) (2.8.2)\n",
      "Requirement already satisfied: six>=1.5 in /Users/ange/opt/anaconda3/envs/nlp/lib/python3.11/site-packages (from python-dateutil>=2.7->matplotlib) (1.16.0)\n",
      "Requirement already satisfied: nltk in /Users/ange/opt/anaconda3/envs/nlp/lib/python3.11/site-packages (3.8.1)\n",
      "Requirement already satisfied: click in /Users/ange/opt/anaconda3/envs/nlp/lib/python3.11/site-packages (from nltk) (8.0.4)\n",
      "Requirement already satisfied: joblib in /Users/ange/opt/anaconda3/envs/nlp/lib/python3.11/site-packages (from nltk) (1.2.0)\n",
      "Requirement already satisfied: regex>=2021.8.3 in /Users/ange/opt/anaconda3/envs/nlp/lib/python3.11/site-packages (from nltk) (2023.10.3)\n",
      "Requirement already satisfied: tqdm in /Users/ange/opt/anaconda3/envs/nlp/lib/python3.11/site-packages (from nltk) (4.65.0)\n"
     ]
    },
    {
     "name": "stderr",
     "output_type": "stream",
     "text": [
      "[nltk_data] Downloading package punkt to /Users/ange/nltk_data...\n",
      "[nltk_data]   Package punkt is already up-to-date!\n",
      "[nltk_data] Downloading package stopwords to /Users/ange/nltk_data...\n",
      "[nltk_data]   Package stopwords is already up-to-date!\n"
     ]
    }
   ],
   "source": [
    "import pandas as pd\n",
    "!pip install gensim\n",
    "import gensim\n",
    "!pip install tqdm\n",
    "from tqdm import tqdm\n",
    "import numpy as np\n",
    "!pip install scikit-learn\n",
    "import sklearn\n",
    "from sklearn.feature_extraction.text import TfidfVectorizer, CountVectorizer\n",
    "from sklearn.model_selection import train_test_split\n",
    "from sklearn.linear_model import LinearRegression, Lasso\n",
    "from sklearn.metrics import mean_squared_error\n",
    "!pip install matplotlib\n",
    "import matplotlib.pyplot as plt\n",
    "%matplotlib inline\n",
    "!pip install nltk\n",
    "import nltk\n",
    "from nltk.corpus import stopwords\n",
    "nltk.download('punkt')\n",
    "nltk.download('stopwords')\n",
    "tqdm.pandas()"
   ]
  },
  {
   "cell_type": "markdown",
   "metadata": {},
   "source": [
    "### TF-IDF by headline_lammas"
   ]
  },
  {
   "cell_type": "code",
   "execution_count": 3,
   "metadata": {},
   "outputs": [],
   "source": [
    "\n",
    "vectorizer_headline = TfidfVectorizer (sublinear_tf=True,\n",
    "                               max_features=500)                  \n",
    "                             "
   ]
  },
  {
   "cell_type": "code",
   "execution_count": 4,
   "metadata": {},
   "outputs": [
    {
     "data": {
      "text/plain": [
       "<bound method NDFrame.head of                about     abuse   accused     after     again   against  \\\n",
       "date                                                                     \n",
       "2007_07_07  0.000000  0.000000  0.000000  0.000000  0.000000  0.000000   \n",
       "2016_01_01  0.006941  0.000000  0.000000  0.015549  0.000000  0.007348   \n",
       "2016_01_02  0.014970  0.005298  0.000000  0.006276  0.016676  0.000000   \n",
       "2016_01_03  0.004420  0.000000  0.000000  0.000000  0.000000  0.000000   \n",
       "2016_01_04  0.008559  0.000000  0.000000  0.007969  0.000000  0.004902   \n",
       "...              ...       ...       ...       ...       ...       ...   \n",
       "2019_12_27  0.010593  0.000000  0.008578  0.011868  0.000000  0.005053   \n",
       "2019_12_28  0.006413  0.000000  0.000000  0.011327  0.000000  0.016611   \n",
       "2019_12_29  0.000000  0.000000  0.000000  0.018688  0.000000  0.008732   \n",
       "2019_12_30  0.003470  0.004206  0.008891  0.015074  0.007391  0.010787   \n",
       "2019_12_31  0.003205  0.000000  0.005967  0.006243  0.000000  0.000000   \n",
       "\n",
       "                 age    agenda       aid       all  ...      work    worker  \\\n",
       "date                                                ...                       \n",
       "2007_07_07  0.000000  0.000000  0.000000  0.000000  ...  0.000000  0.000000   \n",
       "2016_01_01  0.000000  0.000000  0.000000  0.000000  ...  0.004312  0.000000   \n",
       "2016_01_02  0.000000  0.000000  0.000000  0.000000  ...  0.005463  0.000000   \n",
       "2016_01_03  0.000000  0.000000  0.000000  0.010462  ...  0.006562  0.000000   \n",
       "2016_01_04  0.000000  0.002383  0.003038  0.005299  ...  0.004123  0.003824   \n",
       "...              ...       ...       ...       ...  ...       ...       ...   \n",
       "2019_12_27  0.000000  0.000000  0.000000  0.000000  ...  0.000000  0.000000   \n",
       "2019_12_28  0.000000  0.000000  0.000000  0.000000  ...  0.008665  0.000000   \n",
       "2019_12_29  0.000000  0.000000  0.010877  0.000000  ...  0.020122  0.000000   \n",
       "2019_12_30  0.000000  0.000000  0.000000  0.000000  ...  0.003166  0.009529   \n",
       "2019_12_31  0.006702  0.000000  0.000000  0.009385  ...  0.007656  0.006355   \n",
       "\n",
       "               world     would    yankee      year      york       you  \\\n",
       "date                                                                     \n",
       "2007_07_07  0.043807  0.000000  0.000000  0.000000  0.000000  0.000000   \n",
       "2016_01_01  0.003544  0.000000  0.000000  0.054558  0.041942  0.000000   \n",
       "2016_01_02  0.000000  0.000000  0.000000  0.038674  0.006190  0.000000   \n",
       "2016_01_03  0.000000  0.000000  0.000000  0.025328  0.013625  0.003867   \n",
       "2016_01_04  0.000000  0.003074  0.000000  0.013220  0.007847  0.014009   \n",
       "...              ...       ...       ...       ...       ...       ...   \n",
       "2019_12_27  0.003832  0.000000  0.000000  0.032003  0.010614  0.003864   \n",
       "2019_12_28  0.000000  0.010485  0.000000  0.034327  0.000000  0.000000   \n",
       "2019_12_29  0.000000  0.000000  0.000000  0.010476  0.000000  0.007363   \n",
       "2019_12_30  0.009891  0.000000  0.005633  0.039487  0.004442  0.012125   \n",
       "2019_12_31  0.003480  0.000000  0.000000  0.069876  0.019982  0.003081   \n",
       "\n",
       "               young      your  \n",
       "date                            \n",
       "2007_07_07  0.000000  0.000000  \n",
       "2016_01_01  0.000000  0.006300  \n",
       "2016_01_02  0.000000  0.000000  \n",
       "2016_01_03  0.000000  0.000000  \n",
       "2016_01_04  0.002971  0.015804  \n",
       "...              ...       ...  \n",
       "2019_12_27  0.000000  0.014074  \n",
       "2019_12_28  0.000000  0.000000  \n",
       "2019_12_29  0.000000  0.018823  \n",
       "2019_12_30  0.000000  0.032445  \n",
       "2019_12_31  0.000000  0.016918  \n",
       "\n",
       "[1461 rows x 500 columns]>"
      ]
     },
     "execution_count": 4,
     "metadata": {},
     "output_type": "execute_result"
    }
   ],
   "source": [
    "df['date'] = df['pub_date'].str[:10].str.replace('-', '_')\n",
    "tfidf_matrix_headline = vectorizer_headline.fit_transform(df['headline_lemmas'])\n",
    "# Convert TFIDF matrix to DataFrame for easier manipulation\n",
    "tfidf_df_headline = pd.DataFrame(tfidf_matrix_headline.toarray(), columns=vectorizer_headline.get_feature_names_out())\n",
    "tfidf_df_headline['date'] = df['date']\n",
    "#group_by date\n",
    "daily_tfidf_headline = tfidf_df_headline.groupby('date').mean()\n",
    "daily_tfidf_headline.head\n",
    "\n",
    "\n"
   ]
  },
  {
   "cell_type": "markdown",
   "metadata": {},
   "source": [
    "### TF-IDF by snippet_lammas"
   ]
  },
  {
   "cell_type": "code",
   "execution_count": 5,
   "metadata": {},
   "outputs": [],
   "source": [
    "vectorizer_abstract = TfidfVectorizer (sublinear_tf=True,\n",
    "                              max_features=750)  #we set this number higher tto capture bigger variability of terms in abstract"
   ]
  },
  {
   "cell_type": "code",
   "execution_count": 6,
   "metadata": {},
   "outputs": [
    {
     "data": {
      "text/plain": [
       "<bound method NDFrame.head of               abuse  according   account   accused    across       act  \\\n",
       "date                                                                     \n",
       "2007_07_07  0.00000   0.000000  0.000000  0.000000  0.000000  0.000000   \n",
       "2016_01_01  0.00000   0.000000  0.000000  0.000000  0.008586  0.000000   \n",
       "2016_01_02  0.00000   0.000000  0.004923  0.004791  0.010624  0.000000   \n",
       "2016_01_03  0.00000   0.005766  0.000000  0.004245  0.004619  0.005685   \n",
       "2016_01_04  0.00000   0.000000  0.001774  0.000000  0.001728  0.007272   \n",
       "...             ...        ...       ...       ...       ...       ...   \n",
       "2019_12_27  0.00000   0.008513  0.000000  0.002967  0.011039  0.003639   \n",
       "2019_12_28  0.00000   0.000000  0.008858  0.000000  0.000000  0.000000   \n",
       "2019_12_29  0.00654   0.000000  0.000000  0.006829  0.000000  0.008241   \n",
       "2019_12_30  0.00361   0.003354  0.000000  0.004502  0.000000  0.000000   \n",
       "2019_12_31  0.00000   0.006255  0.000000  0.000000  0.008584  0.000000   \n",
       "\n",
       "              action  activist     actor   actress  ...     world     would  \\\n",
       "date                                                ...                       \n",
       "2007_07_07  0.000000  0.000000  0.000000  0.000000  ...  0.000000  0.000000   \n",
       "2016_01_01  0.000000  0.004704  0.006362  0.000000  ...  0.011109  0.002913   \n",
       "2016_01_02  0.000000  0.000000  0.000000  0.000000  ...  0.008548  0.006707   \n",
       "2016_01_03  0.000000  0.000000  0.000000  0.000000  ...  0.000000  0.000000   \n",
       "2016_01_04  0.006605  0.000000  0.000000  0.000000  ...  0.010415  0.005856   \n",
       "...              ...       ...       ...       ...  ...       ...       ...   \n",
       "2019_12_27  0.003226  0.002714  0.003892  0.000000  ...  0.000000  0.011382   \n",
       "2019_12_28  0.008486  0.000000  0.000000  0.010376  ...  0.007641  0.011913   \n",
       "2019_12_29  0.006249  0.000000  0.000000  0.000000  ...  0.000000  0.004935   \n",
       "2019_12_30  0.000000  0.000000  0.003456  0.000000  ...  0.005168  0.010681   \n",
       "2019_12_31  0.000000  0.004013  0.000000  0.000000  ...  0.005685  0.015408   \n",
       "\n",
       "              writer    writes  yankee      year       yet      york  \\\n",
       "date                                                                   \n",
       "2007_07_07  0.000000  0.000000     0.0  0.000000  0.000000  0.000000   \n",
       "2016_01_01  0.000000  0.000000     0.0  0.033554  0.004104  0.021642   \n",
       "2016_01_02  0.000000  0.000000     0.0  0.021969  0.000000  0.013929   \n",
       "2016_01_03  0.000000  0.005675     0.0  0.025867  0.009867  0.004787   \n",
       "2016_01_04  0.000000  0.000000     0.0  0.031091  0.001919  0.003231   \n",
       "...              ...       ...     ...       ...       ...       ...   \n",
       "2019_12_27  0.007759  0.000000     0.0  0.042837  0.000000  0.002218   \n",
       "2019_12_28  0.000000  0.000000     0.0  0.014287  0.027474  0.017230   \n",
       "2019_12_29  0.000000  0.000000     0.0  0.006847  0.000000  0.032093   \n",
       "2019_12_30  0.005192  0.003717     0.0  0.021245  0.007765  0.016400   \n",
       "2019_12_31  0.005208  0.005648     0.0  0.036614  0.000000  0.007428   \n",
       "\n",
       "                 you     young  \n",
       "date                            \n",
       "2007_07_07  0.000000  0.000000  \n",
       "2016_01_01  0.000000  0.003042  \n",
       "2016_01_02  0.003204  0.000000  \n",
       "2016_01_03  0.000000  0.000000  \n",
       "2016_01_04  0.000000  0.000000  \n",
       "...              ...       ...  \n",
       "2019_12_27  0.003590  0.000000  \n",
       "2019_12_28  0.000000  0.000000  \n",
       "2019_12_29  0.000000  0.000000  \n",
       "2019_12_30  0.000000  0.000000  \n",
       "2019_12_31  0.000000  0.002348  \n",
       "\n",
       "[1461 rows x 750 columns]>"
      ]
     },
     "execution_count": 6,
     "metadata": {},
     "output_type": "execute_result"
    }
   ],
   "source": [
    "tfidf_matrix_abstract = vectorizer_abstract.fit_transform(df['snippet_lemmas'])\n",
    "# Convert TFIDF matrix to DataFrame for easier manipulation\n",
    "tfidf_df_abstract = pd.DataFrame(tfidf_matrix_abstract.toarray(), columns=vectorizer_abstract.get_feature_names_out())\n",
    "tfidf_df_abstract['date'] = df['date']\n",
    "#group_by date\n",
    "daily_tfidf_abstract = tfidf_df_abstract.groupby('date').mean()\n",
    "daily_tfidf_abstract.head"
   ]
  },
  {
   "cell_type": "code",
   "execution_count": null,
   "metadata": {},
   "outputs": [],
   "source": []
  }
 ],
 "metadata": {
  "kernelspec": {
   "display_name": "Python 3",
   "language": "python",
   "name": "python3"
  },
  "language_info": {
   "codemirror_mode": {
    "name": "ipython",
    "version": 3
   },
   "file_extension": ".py",
   "mimetype": "text/x-python",
   "name": "python",
   "nbconvert_exporter": "python",
   "pygments_lexer": "ipython3",
   "version": "3.11.5"
  }
 },
 "nbformat": 4,
 "nbformat_minor": 2
}
