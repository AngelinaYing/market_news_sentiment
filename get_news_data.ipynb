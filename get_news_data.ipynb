{
 "cells": [
  {
   "cell_type": "markdown",
   "metadata": {},
   "source": [
    "# Import Data"
   ]
  },
  {
   "cell_type": "code",
   "execution_count": 17,
   "metadata": {},
   "outputs": [],
   "source": [
    "# import getpass\n",
    "# APIKEY = getpass.getpass()"
   ]
  },
  {
   "cell_type": "code",
   "execution_count": 18,
   "metadata": {},
   "outputs": [],
   "source": [
    "# !mkdir -p news_data\n",
    "# for year in range(2014, 2015):\n",
    "#     for month in range(1, 3):\n",
    "#         output_file = f\"news_data/archive_{year}_{month:02d}.json\"\n",
    "#         url = f\"https://api.nytimes.com/svc/archive/v1/{year}/{month}.json?api-key={APIKEY}\"\n",
    "#         !curl --request GET -o $output_file \"$url\""
   ]
  },
  {
   "cell_type": "markdown",
   "metadata": {},
   "source": [
    "# To Dataframe"
   ]
  },
  {
   "cell_type": "code",
   "execution_count": 1,
   "metadata": {},
   "outputs": [],
   "source": [
    "import json\n",
    "import pandas as pd"
   ]
  },
  {
   "cell_type": "code",
   "execution_count": 2,
   "metadata": {},
   "outputs": [],
   "source": [
    "columns = ['abstract', 'web_url', 'snippet', 'pub_date', 'document_type', 'news_desk', 'type_of_material', 'word_count', 'headline.main']"
   ]
  },
  {
   "cell_type": "code",
   "execution_count": 3,
   "metadata": {},
   "outputs": [],
   "source": [
    "def json_to_df(json_file_path, dataframe):\n",
    "    with open(json_file_path, 'r') as file:\n",
    "        content = json.load(file)[\"response\"][\"docs\"]\n",
    "    df = pd.json_normalize(content)\n",
    "    df = df[columns]\n",
    "    return pd.concat([df, dataframe], ignore_index=True)"
   ]
  },
  {
   "cell_type": "code",
   "execution_count": 4,
   "metadata": {},
   "outputs": [],
   "source": [
    "# column_names = ['abstract', 'web_url', 'snippet', 'lead_paragraph', 'source', 'multimedia', 'keywords', 'pub_date', 'document_type', 'news_desk','section_name', 'type_of_material', '_id', 'word_count', 'uri', 'headline.main', 'headline.kicker', 'headline.content_kicker', 'headline.print_headline', 'headline.name', 'headline.seo', 'headline.sub', 'byline.original', 'byline.person', 'byline.organization', 'print_section', 'print_page', 'subsection_name']"
   ]
  },
  {
   "cell_type": "code",
   "execution_count": 5,
   "metadata": {},
   "outputs": [],
   "source": [
    "df = pd.DataFrame(columns=columns)\n",
    "for year in range(2016, 2020):\n",
    "    for month in range(1, 13):\n",
    "        filename = f\"news_data/archive_{year}_{month:02d}.json\"\n",
    "        df = json_to_df(filename, df)\n",
    "        "
   ]
  },
  {
   "cell_type": "code",
   "execution_count": 6,
   "metadata": {},
   "outputs": [
    {
     "data": {
      "text/html": [
       "<div>\n",
       "<style scoped>\n",
       "    .dataframe tbody tr th:only-of-type {\n",
       "        vertical-align: middle;\n",
       "    }\n",
       "\n",
       "    .dataframe tbody tr th {\n",
       "        vertical-align: top;\n",
       "    }\n",
       "\n",
       "    .dataframe thead th {\n",
       "        text-align: right;\n",
       "    }\n",
       "</style>\n",
       "<table border=\"1\" class=\"dataframe\">\n",
       "  <thead>\n",
       "    <tr style=\"text-align: right;\">\n",
       "      <th></th>\n",
       "      <th>abstract</th>\n",
       "      <th>web_url</th>\n",
       "      <th>snippet</th>\n",
       "      <th>pub_date</th>\n",
       "      <th>document_type</th>\n",
       "      <th>news_desk</th>\n",
       "      <th>type_of_material</th>\n",
       "      <th>word_count</th>\n",
       "      <th>headline.main</th>\n",
       "    </tr>\n",
       "  </thead>\n",
       "  <tbody>\n",
       "    <tr>\n",
       "      <th>0</th>\n",
       "      <td>President Trump’s aides were delighted that ne...</td>\n",
       "      <td>https://www.nytimes.com/2019/11/30/us/politics...</td>\n",
       "      <td>President Trump’s aides were delighted that ne...</td>\n",
       "      <td>2019-12-01T00:15:08+0000</td>\n",
       "      <td>article</td>\n",
       "      <td>Washington</td>\n",
       "      <td>News</td>\n",
       "      <td>1341</td>\n",
       "      <td>A Leak-Prone White House Finally Manages to Ke...</td>\n",
       "    </tr>\n",
       "    <tr>\n",
       "      <th>1</th>\n",
       "      <td>The Buckeyes quarterback threw one of his four...</td>\n",
       "      <td>https://www.nytimes.com/2019/11/30/sports/ncaa...</td>\n",
       "      <td>The Buckeyes quarterback threw one of his four...</td>\n",
       "      <td>2019-12-01T00:33:57+0000</td>\n",
       "      <td>article</td>\n",
       "      <td>Sports</td>\n",
       "      <td>News</td>\n",
       "      <td>727</td>\n",
       "      <td>Justin Fields Has ‘Heisman Moment’ in Ohio Sta...</td>\n",
       "    </tr>\n",
       "    <tr>\n",
       "      <th>2</th>\n",
       "      <td>A personal loss has prompted Eileen Shiffrin t...</td>\n",
       "      <td>https://www.nytimes.com/2019/11/30/sports/skii...</td>\n",
       "      <td>A personal loss has prompted Eileen Shiffrin t...</td>\n",
       "      <td>2019-12-01T00:37:15+0000</td>\n",
       "      <td>article</td>\n",
       "      <td>Sports</td>\n",
       "      <td>News</td>\n",
       "      <td>762</td>\n",
       "      <td>Mikaela Shiffrin Learns a New Way to Win: With...</td>\n",
       "    </tr>\n",
       "    <tr>\n",
       "      <th>3</th>\n",
       "      <td>The actor and environmentalist released a stat...</td>\n",
       "      <td>https://www.nytimes.com/2019/11/30/world/ameri...</td>\n",
       "      <td>The actor and environmentalist released a stat...</td>\n",
       "      <td>2019-12-01T01:03:22+0000</td>\n",
       "      <td>article</td>\n",
       "      <td>Express</td>\n",
       "      <td>News</td>\n",
       "      <td>540</td>\n",
       "      <td>Leonardo DiCaprio Responds to Brazil’s Preside...</td>\n",
       "    </tr>\n",
       "    <tr>\n",
       "      <th>4</th>\n",
       "      <td>A blocked pipe caused sewage to back up severa...</td>\n",
       "      <td>https://www.nytimes.com/2019/11/30/nyregion/Qu...</td>\n",
       "      <td>A blocked pipe caused sewage to back up severa...</td>\n",
       "      <td>2019-12-01T01:47:35+0000</td>\n",
       "      <td>article</td>\n",
       "      <td>Express</td>\n",
       "      <td>News</td>\n",
       "      <td>781</td>\n",
       "      <td>Cooking Grease Down a Drain Eyed in Sewage Flo...</td>\n",
       "    </tr>\n",
       "    <tr>\n",
       "      <th>...</th>\n",
       "      <td>...</td>\n",
       "      <td>...</td>\n",
       "      <td>...</td>\n",
       "      <td>...</td>\n",
       "      <td>...</td>\n",
       "      <td>...</td>\n",
       "      <td>...</td>\n",
       "      <td>...</td>\n",
       "      <td>...</td>\n",
       "    </tr>\n",
       "    <tr>\n",
       "      <th>242015</th>\n",
       "      <td>Anna Wintour, Condé Nast’s artistic director, ...</td>\n",
       "      <td>https://www.nytimes.com/2016/02/01/business/me...</td>\n",
       "      <td>Anna Wintour, Condé Nast’s artistic director, ...</td>\n",
       "      <td>2016-01-31T23:09:07+0000</td>\n",
       "      <td>article</td>\n",
       "      <td>Business</td>\n",
       "      <td>News</td>\n",
       "      <td>1348</td>\n",
       "      <td>Condé Nast Adapts to New Forces, Leaving Some ...</td>\n",
       "    </tr>\n",
       "    <tr>\n",
       "      <th>242016</th>\n",
       "      <td>Microsoft sank a data center on the ocean floo...</td>\n",
       "      <td>https://www.nytimes.com/2016/02/01/technology/...</td>\n",
       "      <td>Microsoft sank a data center on the ocean floo...</td>\n",
       "      <td>2016-01-31T23:25:58+0000</td>\n",
       "      <td>article</td>\n",
       "      <td>Business</td>\n",
       "      <td>News</td>\n",
       "      <td>1223</td>\n",
       "      <td>Microsoft Plumbs Ocean’s Depths to Test Underw...</td>\n",
       "    </tr>\n",
       "    <tr>\n",
       "      <th>242017</th>\n",
       "      <td>David Eisenhauer, a freshman charged with abdu...</td>\n",
       "      <td>https://www.nytimes.com/2016/02/01/us/two-virg...</td>\n",
       "      <td>David Eisenhauer, a freshman charged with abdu...</td>\n",
       "      <td>2016-01-31T23:35:00+0000</td>\n",
       "      <td>article</td>\n",
       "      <td>National</td>\n",
       "      <td>News</td>\n",
       "      <td>459</td>\n",
       "      <td>Two Virginia Tech Students Arrested in Girl’s ...</td>\n",
       "    </tr>\n",
       "    <tr>\n",
       "      <th>242018</th>\n",
       "      <td>A time-capsule look at how the show as markete...</td>\n",
       "      <td>https://artsbeat.blogs.nytimes.com/2016/01/31/...</td>\n",
       "      <td>A time-capsule look at how the show as markete...</td>\n",
       "      <td>2016-01-31T23:53:20+0000</td>\n",
       "      <td>article</td>\n",
       "      <td>Culture</td>\n",
       "      <td>News</td>\n",
       "      <td>161</td>\n",
       "      <td>Theater Flashback: ‘Grease’ on Broadway</td>\n",
       "    </tr>\n",
       "    <tr>\n",
       "      <th>242019</th>\n",
       "      <td>When scores of masked men, many of them gang m...</td>\n",
       "      <td>https://www.nytimes.com/2016/02/01/world/europ...</td>\n",
       "      <td>When scores of masked men, many of them gang m...</td>\n",
       "      <td>2016-01-31T23:55:29+0000</td>\n",
       "      <td>article</td>\n",
       "      <td>Foreign</td>\n",
       "      <td>News</td>\n",
       "      <td>394</td>\n",
       "      <td>Swedish Police Foiled Planned Attack on Immigr...</td>\n",
       "    </tr>\n",
       "  </tbody>\n",
       "</table>\n",
       "<p>242020 rows × 9 columns</p>\n",
       "</div>"
      ],
      "text/plain": [
       "                                                 abstract  \\\n",
       "0       President Trump’s aides were delighted that ne...   \n",
       "1       The Buckeyes quarterback threw one of his four...   \n",
       "2       A personal loss has prompted Eileen Shiffrin t...   \n",
       "3       The actor and environmentalist released a stat...   \n",
       "4       A blocked pipe caused sewage to back up severa...   \n",
       "...                                                   ...   \n",
       "242015  Anna Wintour, Condé Nast’s artistic director, ...   \n",
       "242016  Microsoft sank a data center on the ocean floo...   \n",
       "242017  David Eisenhauer, a freshman charged with abdu...   \n",
       "242018  A time-capsule look at how the show as markete...   \n",
       "242019  When scores of masked men, many of them gang m...   \n",
       "\n",
       "                                                  web_url  \\\n",
       "0       https://www.nytimes.com/2019/11/30/us/politics...   \n",
       "1       https://www.nytimes.com/2019/11/30/sports/ncaa...   \n",
       "2       https://www.nytimes.com/2019/11/30/sports/skii...   \n",
       "3       https://www.nytimes.com/2019/11/30/world/ameri...   \n",
       "4       https://www.nytimes.com/2019/11/30/nyregion/Qu...   \n",
       "...                                                   ...   \n",
       "242015  https://www.nytimes.com/2016/02/01/business/me...   \n",
       "242016  https://www.nytimes.com/2016/02/01/technology/...   \n",
       "242017  https://www.nytimes.com/2016/02/01/us/two-virg...   \n",
       "242018  https://artsbeat.blogs.nytimes.com/2016/01/31/...   \n",
       "242019  https://www.nytimes.com/2016/02/01/world/europ...   \n",
       "\n",
       "                                                  snippet  \\\n",
       "0       President Trump’s aides were delighted that ne...   \n",
       "1       The Buckeyes quarterback threw one of his four...   \n",
       "2       A personal loss has prompted Eileen Shiffrin t...   \n",
       "3       The actor and environmentalist released a stat...   \n",
       "4       A blocked pipe caused sewage to back up severa...   \n",
       "...                                                   ...   \n",
       "242015  Anna Wintour, Condé Nast’s artistic director, ...   \n",
       "242016  Microsoft sank a data center on the ocean floo...   \n",
       "242017  David Eisenhauer, a freshman charged with abdu...   \n",
       "242018  A time-capsule look at how the show as markete...   \n",
       "242019  When scores of masked men, many of them gang m...   \n",
       "\n",
       "                        pub_date document_type   news_desk type_of_material  \\\n",
       "0       2019-12-01T00:15:08+0000       article  Washington             News   \n",
       "1       2019-12-01T00:33:57+0000       article      Sports             News   \n",
       "2       2019-12-01T00:37:15+0000       article      Sports             News   \n",
       "3       2019-12-01T01:03:22+0000       article     Express             News   \n",
       "4       2019-12-01T01:47:35+0000       article     Express             News   \n",
       "...                          ...           ...         ...              ...   \n",
       "242015  2016-01-31T23:09:07+0000       article    Business             News   \n",
       "242016  2016-01-31T23:25:58+0000       article    Business             News   \n",
       "242017  2016-01-31T23:35:00+0000       article    National             News   \n",
       "242018  2016-01-31T23:53:20+0000       article     Culture             News   \n",
       "242019  2016-01-31T23:55:29+0000       article     Foreign             News   \n",
       "\n",
       "       word_count                                      headline.main  \n",
       "0            1341  A Leak-Prone White House Finally Manages to Ke...  \n",
       "1             727  Justin Fields Has ‘Heisman Moment’ in Ohio Sta...  \n",
       "2             762  Mikaela Shiffrin Learns a New Way to Win: With...  \n",
       "3             540  Leonardo DiCaprio Responds to Brazil’s Preside...  \n",
       "4             781  Cooking Grease Down a Drain Eyed in Sewage Flo...  \n",
       "...           ...                                                ...  \n",
       "242015       1348  Condé Nast Adapts to New Forces, Leaving Some ...  \n",
       "242016       1223  Microsoft Plumbs Ocean’s Depths to Test Underw...  \n",
       "242017        459  Two Virginia Tech Students Arrested in Girl’s ...  \n",
       "242018        161            Theater Flashback: ‘Grease’ on Broadway  \n",
       "242019        394  Swedish Police Foiled Planned Attack on Immigr...  \n",
       "\n",
       "[242020 rows x 9 columns]"
      ]
     },
     "execution_count": 6,
     "metadata": {},
     "output_type": "execute_result"
    }
   ],
   "source": [
    "df"
   ]
  },
  {
   "cell_type": "code",
   "execution_count": 7,
   "metadata": {},
   "outputs": [
    {
     "data": {
      "text/html": [
       "<div>\n",
       "<style scoped>\n",
       "    .dataframe tbody tr th:only-of-type {\n",
       "        vertical-align: middle;\n",
       "    }\n",
       "\n",
       "    .dataframe tbody tr th {\n",
       "        vertical-align: top;\n",
       "    }\n",
       "\n",
       "    .dataframe thead th {\n",
       "        text-align: right;\n",
       "    }\n",
       "</style>\n",
       "<table border=\"1\" class=\"dataframe\">\n",
       "  <thead>\n",
       "    <tr style=\"text-align: right;\">\n",
       "      <th></th>\n",
       "      <th>abstract</th>\n",
       "      <th>web_url</th>\n",
       "      <th>snippet</th>\n",
       "      <th>pub_date</th>\n",
       "      <th>document_type</th>\n",
       "      <th>news_desk</th>\n",
       "      <th>type_of_material</th>\n",
       "      <th>word_count</th>\n",
       "      <th>headline.main</th>\n",
       "    </tr>\n",
       "  </thead>\n",
       "  <tbody>\n",
       "    <tr>\n",
       "      <th>count</th>\n",
       "      <td>242020</td>\n",
       "      <td>242020</td>\n",
       "      <td>242020</td>\n",
       "      <td>242020</td>\n",
       "      <td>242020</td>\n",
       "      <td>242020</td>\n",
       "      <td>242020</td>\n",
       "      <td>242020</td>\n",
       "      <td>242020</td>\n",
       "    </tr>\n",
       "    <tr>\n",
       "      <th>unique</th>\n",
       "      <td>229899</td>\n",
       "      <td>241987</td>\n",
       "      <td>229830</td>\n",
       "      <td>223882</td>\n",
       "      <td>3</td>\n",
       "      <td>97</td>\n",
       "      <td>32</td>\n",
       "      <td>4543</td>\n",
       "      <td>233507</td>\n",
       "    </tr>\n",
       "    <tr>\n",
       "      <th>top</th>\n",
       "      <td>Here’s what you need to know to start your day.</td>\n",
       "      <td>https://www.nytimes.com/</td>\n",
       "      <td>Here’s what you need to know to start your day.</td>\n",
       "      <td>2018-06-24T04:00:01+0000</td>\n",
       "      <td>article</td>\n",
       "      <td>Foreign</td>\n",
       "      <td>News</td>\n",
       "      <td>0</td>\n",
       "      <td>Quotation of the Day</td>\n",
       "    </tr>\n",
       "    <tr>\n",
       "      <th>freq</th>\n",
       "      <td>1857</td>\n",
       "      <td>22</td>\n",
       "      <td>1857</td>\n",
       "      <td>22</td>\n",
       "      <td>220099</td>\n",
       "      <td>22955</td>\n",
       "      <td>163755</td>\n",
       "      <td>22156</td>\n",
       "      <td>423</td>\n",
       "    </tr>\n",
       "  </tbody>\n",
       "</table>\n",
       "</div>"
      ],
      "text/plain": [
       "                                               abstract  \\\n",
       "count                                            242020   \n",
       "unique                                           229899   \n",
       "top     Here’s what you need to know to start your day.   \n",
       "freq                                               1857   \n",
       "\n",
       "                         web_url  \\\n",
       "count                     242020   \n",
       "unique                    241987   \n",
       "top     https://www.nytimes.com/   \n",
       "freq                          22   \n",
       "\n",
       "                                                snippet  \\\n",
       "count                                            242020   \n",
       "unique                                           229830   \n",
       "top     Here’s what you need to know to start your day.   \n",
       "freq                                               1857   \n",
       "\n",
       "                        pub_date document_type news_desk type_of_material  \\\n",
       "count                     242020        242020    242020           242020   \n",
       "unique                    223882             3        97               32   \n",
       "top     2018-06-24T04:00:01+0000       article   Foreign             News   \n",
       "freq                          22        220099     22955           163755   \n",
       "\n",
       "        word_count         headline.main  \n",
       "count       242020                242020  \n",
       "unique        4543                233507  \n",
       "top              0  Quotation of the Day  \n",
       "freq         22156                   423  "
      ]
     },
     "execution_count": 7,
     "metadata": {},
     "output_type": "execute_result"
    }
   ],
   "source": [
    "df.describe()"
   ]
  },
  {
   "cell_type": "code",
   "execution_count": 8,
   "metadata": {},
   "outputs": [
    {
     "data": {
      "text/plain": [
       "Index(['abstract', 'web_url', 'snippet', 'pub_date', 'document_type',\n",
       "       'news_desk', 'type_of_material', 'word_count', 'headline.main'],\n",
       "      dtype='object')"
      ]
     },
     "execution_count": 8,
     "metadata": {},
     "output_type": "execute_result"
    }
   ],
   "source": [
    "df.columns"
   ]
  },
  {
   "cell_type": "code",
   "execution_count": 9,
   "metadata": {},
   "outputs": [
    {
     "name": "stdout",
     "output_type": "stream",
     "text": [
      "<class 'pandas.core.frame.DataFrame'>\n",
      "RangeIndex: 242020 entries, 0 to 242019\n",
      "Data columns (total 9 columns):\n",
      " #   Column            Non-Null Count   Dtype \n",
      "---  ------            --------------   ----- \n",
      " 0   abstract          242020 non-null  object\n",
      " 1   web_url           242020 non-null  object\n",
      " 2   snippet           242020 non-null  object\n",
      " 3   pub_date          242020 non-null  object\n",
      " 4   document_type     242020 non-null  object\n",
      " 5   news_desk         242020 non-null  object\n",
      " 6   type_of_material  242020 non-null  object\n",
      " 7   word_count        242020 non-null  object\n",
      " 8   headline.main     242020 non-null  object\n",
      "dtypes: object(9)\n",
      "memory usage: 16.6+ MB\n"
     ]
    }
   ],
   "source": [
    "df.info()"
   ]
  },
  {
   "cell_type": "code",
   "execution_count": 10,
   "metadata": {},
   "outputs": [
    {
     "data": {
      "text/plain": [
       "(242020, 9)"
      ]
     },
     "execution_count": 10,
     "metadata": {},
     "output_type": "execute_result"
    }
   ],
   "source": [
    "df.shape"
   ]
  },
  {
   "cell_type": "markdown",
   "metadata": {},
   "source": [
    "# Export Data"
   ]
  },
  {
   "cell_type": "code",
   "execution_count": 11,
   "metadata": {},
   "outputs": [],
   "source": [
    "df.to_csv(\"news_data/archive_data.csv\", index=False)"
   ]
  },
  {
   "cell_type": "markdown",
   "metadata": {},
   "source": []
  },
  {
   "cell_type": "code",
   "execution_count": null,
   "metadata": {},
   "outputs": [],
   "source": []
  }
 ],
 "metadata": {
  "kernelspec": {
   "display_name": "nlp",
   "language": "python",
   "name": "python3"
  },
  "language_info": {
   "codemirror_mode": {
    "name": "ipython",
    "version": 3
   },
   "file_extension": ".py",
   "mimetype": "text/x-python",
   "name": "python",
   "nbconvert_exporter": "python",
   "pygments_lexer": "ipython3",
   "version": "3.11.5"
  }
 },
 "nbformat": 4,
 "nbformat_minor": 2
}
