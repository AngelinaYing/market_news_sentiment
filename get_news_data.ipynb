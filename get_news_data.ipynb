{
 "cells": [
  {
   "cell_type": "markdown",
   "metadata": {},
   "source": [
    "# Import Data"
   ]
  },
  {
   "cell_type": "code",
   "execution_count": 2,
   "metadata": {},
   "outputs": [],
   "source": [
    "# import getpass\n",
    "# APIKEY = getpass.getpass()"
   ]
  },
  {
   "cell_type": "code",
   "execution_count": 5,
   "metadata": {},
   "outputs": [
    {
     "name": "stdout",
     "output_type": "stream",
     "text": [
      "  % Total    % Received % Xferd  Average Speed   Time    Time     Time  Current\n",
      "                                 Dload  Upload   Total   Spent    Left  Speed\n",
      "  0     0    0     0    0     0      0      0 --:--:-- --:--:-- --:--:--     0"
     ]
    },
    {
     "name": "stdout",
     "output_type": "stream",
     "text": [
      "100 18.5M  100 18.5M    0     0   116k      0  0:02:42  0:02:42 --:--:-- 84959 0  0:02:15  0:00:10  0:02:05  165k:50  124k   0  0:02:48  0:00:50  0:01:58     0:00:52  0:02:02     0:54  0:02:07     07M    0     0   114k      0  0:02:46  0:01:54  0:00:52 75472\n",
      "  % Total    % Received % Xferd  Average Speed   Time    Time     Time  Current\n",
      "                                 Dload  Upload   Total   Spent    Left  Speed\n",
      " 66 17.6M   66 11.7M    0     0   111k      0  0:02:44  0:01:46  0:00:58  198k    0  0:02:24  0:00:09  0:02:15  147k:49 797976k 0:02:20  181k8k      0  0:03:02  0:01:21  0:01:41 688540:01:30  157k4k      0  0:02:53  0:01:29  0:01:24  160k  0:02:50  0:01:40  0:01:10 87464      0  0:02:41  0:01:47  0:00:54  236k^C\n"
     ]
    }
   ],
   "source": [
    "# !mkdir -p news_data\n",
    "# for year in range(2014, 2015):\n",
    "#     for month in range(1, 3):\n",
    "#         output_file = f\"news_data/archive_{year}_{month:02d}.json\"\n",
    "#         url = f\"https://api.nytimes.com/svc/archive/v1/{year}/{month}.json?api-key={APIKEY}\"\n",
    "#         !curl --request GET -o $output_file \"$url\""
   ]
  },
  {
   "cell_type": "markdown",
   "metadata": {},
   "source": [
    "# To Dataframe"
   ]
  },
  {
   "cell_type": "code",
   "execution_count": 6,
   "metadata": {},
   "outputs": [],
   "source": [
    "import json\n",
    "import pandas as pd"
   ]
  },
  {
   "cell_type": "code",
   "execution_count": 7,
   "metadata": {},
   "outputs": [],
   "source": [
    "def json_to_df(json_file_path, dataframe):\n",
    "    with open(json_file_path, 'r') as file:\n",
    "        content = json.load(file)[\"response\"][\"docs\"]\n",
    "    df = pd.json_normalize(content)\n",
    "    return pd.concat([df, dataframe], ignore_index=True)"
   ]
  },
  {
   "cell_type": "code",
   "execution_count": 8,
   "metadata": {},
   "outputs": [],
   "source": [
    "column_names = ['abstract', 'web_url', 'snippet', 'lead_paragraph', 'source', 'multimedia', 'keywords', 'pub_date', 'document_type', 'news_desk','section_name', 'type_of_material', '_id', 'word_count', 'uri', 'headline.main', 'headline.kicker', 'headline.content_kicker', 'headline.print_headline', 'headline.name', 'headline.seo', 'headline.sub', 'byline.original', 'byline.person', 'byline.organization', 'print_section', 'print_page', 'subsection_name']"
   ]
  },
  {
   "cell_type": "code",
   "execution_count": 9,
   "metadata": {},
   "outputs": [],
   "source": [
    "df = pd.DataFrame(columns=column_names)\n",
    "for year in range(2016, 2020):\n",
    "    for month in range(1, 13):\n",
    "        filename = f\"news_data/archive_{year}_{month:02d}.json\"\n",
    "        df = json_to_df(filename, df)\n",
    "        "
   ]
  },
  {
   "cell_type": "code",
   "execution_count": 11,
   "metadata": {},
   "outputs": [
    {
     "data": {
      "text/html": [
       "<div>\n",
       "<style scoped>\n",
       "    .dataframe tbody tr th:only-of-type {\n",
       "        vertical-align: middle;\n",
       "    }\n",
       "\n",
       "    .dataframe tbody tr th {\n",
       "        vertical-align: top;\n",
       "    }\n",
       "\n",
       "    .dataframe thead th {\n",
       "        text-align: right;\n",
       "    }\n",
       "</style>\n",
       "<table border=\"1\" class=\"dataframe\">\n",
       "  <thead>\n",
       "    <tr style=\"text-align: right;\">\n",
       "      <th></th>\n",
       "      <th>abstract</th>\n",
       "      <th>web_url</th>\n",
       "      <th>snippet</th>\n",
       "      <th>lead_paragraph</th>\n",
       "      <th>print_section</th>\n",
       "      <th>print_page</th>\n",
       "      <th>source</th>\n",
       "      <th>multimedia</th>\n",
       "      <th>keywords</th>\n",
       "      <th>pub_date</th>\n",
       "      <th>...</th>\n",
       "      <th>headline.main</th>\n",
       "      <th>headline.kicker</th>\n",
       "      <th>headline.content_kicker</th>\n",
       "      <th>headline.print_headline</th>\n",
       "      <th>headline.name</th>\n",
       "      <th>headline.seo</th>\n",
       "      <th>headline.sub</th>\n",
       "      <th>byline.original</th>\n",
       "      <th>byline.person</th>\n",
       "      <th>byline.organization</th>\n",
       "    </tr>\n",
       "  </thead>\n",
       "  <tbody>\n",
       "    <tr>\n",
       "      <th>0</th>\n",
       "      <td>President Trump’s aides were delighted that ne...</td>\n",
       "      <td>https://www.nytimes.com/2019/11/30/us/politics...</td>\n",
       "      <td>President Trump’s aides were delighted that ne...</td>\n",
       "      <td>BAGRAM AIR FIELD, Afghanistan — It may be the ...</td>\n",
       "      <td>A</td>\n",
       "      <td>29</td>\n",
       "      <td>The New York Times</td>\n",
       "      <td>[{'rank': 0, 'subtype': 'xlarge', 'caption': N...</td>\n",
       "      <td>[{'name': 'subject', 'value': 'Afghanistan War...</td>\n",
       "      <td>2019-12-01T00:15:08+0000</td>\n",
       "      <td>...</td>\n",
       "      <td>A Leak-Prone White House Finally Manages to Ke...</td>\n",
       "      <td>White House Memo</td>\n",
       "      <td>None</td>\n",
       "      <td>Using Canned Tweets and Tight Lips to Make a S...</td>\n",
       "      <td>None</td>\n",
       "      <td>None</td>\n",
       "      <td>None</td>\n",
       "      <td>By Michael Crowley</td>\n",
       "      <td>[{'firstname': 'Michael', 'middlename': None, ...</td>\n",
       "      <td>None</td>\n",
       "    </tr>\n",
       "    <tr>\n",
       "      <th>1</th>\n",
       "      <td>The Buckeyes quarterback threw one of his four...</td>\n",
       "      <td>https://www.nytimes.com/2019/11/30/sports/ncaa...</td>\n",
       "      <td>The Buckeyes quarterback threw one of his four...</td>\n",
       "      <td>ANN ARBOR, Mich. — The throw was only one of 2...</td>\n",
       "      <td>SP</td>\n",
       "      <td>5</td>\n",
       "      <td>The New York Times</td>\n",
       "      <td>[{'rank': 0, 'subtype': 'xlarge', 'caption': N...</td>\n",
       "      <td>[{'name': 'subject', 'value': 'Football (Colle...</td>\n",
       "      <td>2019-12-01T00:33:57+0000</td>\n",
       "      <td>...</td>\n",
       "      <td>Justin Fields Has ‘Heisman Moment’ in Ohio Sta...</td>\n",
       "      <td>None</td>\n",
       "      <td>None</td>\n",
       "      <td>From Medical Tent to a ‘Heisman Moment’: Field...</td>\n",
       "      <td>None</td>\n",
       "      <td>None</td>\n",
       "      <td>None</td>\n",
       "      <td>By Jeff Arnold</td>\n",
       "      <td>[{'firstname': 'Jeff', 'middlename': None, 'la...</td>\n",
       "      <td>None</td>\n",
       "    </tr>\n",
       "    <tr>\n",
       "      <th>2</th>\n",
       "      <td>A personal loss has prompted Eileen Shiffrin t...</td>\n",
       "      <td>https://www.nytimes.com/2019/11/30/sports/skii...</td>\n",
       "      <td>A personal loss has prompted Eileen Shiffrin t...</td>\n",
       "      <td>KILLINGTON, Vt. — Mikaela Shiffrin, the two-ti...</td>\n",
       "      <td>SP</td>\n",
       "      <td>6</td>\n",
       "      <td>The New York Times</td>\n",
       "      <td>[{'rank': 0, 'subtype': 'xlarge', 'caption': N...</td>\n",
       "      <td>[{'name': 'subject', 'value': 'World Cup (Skii...</td>\n",
       "      <td>2019-12-01T00:37:15+0000</td>\n",
       "      <td>...</td>\n",
       "      <td>Mikaela Shiffrin Learns a New Way to Win: With...</td>\n",
       "      <td>None</td>\n",
       "      <td>None</td>\n",
       "      <td>Shiffrin Settles In to New Season  Without Her...</td>\n",
       "      <td>None</td>\n",
       "      <td>None</td>\n",
       "      <td>None</td>\n",
       "      <td>By Bill Pennington</td>\n",
       "      <td>[{'firstname': 'Bill', 'middlename': None, 'la...</td>\n",
       "      <td>None</td>\n",
       "    </tr>\n",
       "    <tr>\n",
       "      <th>3</th>\n",
       "      <td>The actor and environmentalist released a stat...</td>\n",
       "      <td>https://www.nytimes.com/2019/11/30/world/ameri...</td>\n",
       "      <td>The actor and environmentalist released a stat...</td>\n",
       "      <td>The actor and environmentalist Leonardo DiCapr...</td>\n",
       "      <td>A</td>\n",
       "      <td>29</td>\n",
       "      <td>The New York Times</td>\n",
       "      <td>[{'rank': 0, 'subtype': 'xlarge', 'caption': N...</td>\n",
       "      <td>[{'name': 'subject', 'value': 'Social Media', ...</td>\n",
       "      <td>2019-12-01T01:03:22+0000</td>\n",
       "      <td>...</td>\n",
       "      <td>Leonardo DiCaprio Responds to Brazil’s Preside...</td>\n",
       "      <td>None</td>\n",
       "      <td>None</td>\n",
       "      <td>Actor Spars With Brazil’s Leader Over Fires</td>\n",
       "      <td>None</td>\n",
       "      <td>None</td>\n",
       "      <td>None</td>\n",
       "      <td>By Aimee Ortiz</td>\n",
       "      <td>[{'firstname': 'Aimee', 'middlename': None, 'l...</td>\n",
       "      <td>None</td>\n",
       "    </tr>\n",
       "    <tr>\n",
       "      <th>4</th>\n",
       "      <td>A blocked pipe caused sewage to back up severa...</td>\n",
       "      <td>https://www.nytimes.com/2019/11/30/nyregion/Qu...</td>\n",
       "      <td>A blocked pipe caused sewage to back up severa...</td>\n",
       "      <td>A blocked pipe sent sewage flooding into at le...</td>\n",
       "      <td>A</td>\n",
       "      <td>21</td>\n",
       "      <td>The New York Times</td>\n",
       "      <td>[{'rank': 0, 'subtype': 'xlarge', 'caption': N...</td>\n",
       "      <td>[{'name': 'subject', 'value': 'Sewers and Sewa...</td>\n",
       "      <td>2019-12-01T01:47:35+0000</td>\n",
       "      <td>...</td>\n",
       "      <td>Cooking Grease Down a Drain Eyed in Sewage Flo...</td>\n",
       "      <td>None</td>\n",
       "      <td>None</td>\n",
       "      <td>Cooking-Grease Clog May Have Caused Sewage to ...</td>\n",
       "      <td>None</td>\n",
       "      <td>None</td>\n",
       "      <td>None</td>\n",
       "      <td>By Neil Vigdor and Michael Wilson</td>\n",
       "      <td>[{'firstname': 'Neil', 'middlename': None, 'la...</td>\n",
       "      <td>None</td>\n",
       "    </tr>\n",
       "  </tbody>\n",
       "</table>\n",
       "<p>5 rows × 28 columns</p>\n",
       "</div>"
      ],
      "text/plain": [
       "                                            abstract  \\\n",
       "0  President Trump’s aides were delighted that ne...   \n",
       "1  The Buckeyes quarterback threw one of his four...   \n",
       "2  A personal loss has prompted Eileen Shiffrin t...   \n",
       "3  The actor and environmentalist released a stat...   \n",
       "4  A blocked pipe caused sewage to back up severa...   \n",
       "\n",
       "                                             web_url  \\\n",
       "0  https://www.nytimes.com/2019/11/30/us/politics...   \n",
       "1  https://www.nytimes.com/2019/11/30/sports/ncaa...   \n",
       "2  https://www.nytimes.com/2019/11/30/sports/skii...   \n",
       "3  https://www.nytimes.com/2019/11/30/world/ameri...   \n",
       "4  https://www.nytimes.com/2019/11/30/nyregion/Qu...   \n",
       "\n",
       "                                             snippet  \\\n",
       "0  President Trump’s aides were delighted that ne...   \n",
       "1  The Buckeyes quarterback threw one of his four...   \n",
       "2  A personal loss has prompted Eileen Shiffrin t...   \n",
       "3  The actor and environmentalist released a stat...   \n",
       "4  A blocked pipe caused sewage to back up severa...   \n",
       "\n",
       "                                      lead_paragraph print_section print_page  \\\n",
       "0  BAGRAM AIR FIELD, Afghanistan — It may be the ...             A         29   \n",
       "1  ANN ARBOR, Mich. — The throw was only one of 2...            SP          5   \n",
       "2  KILLINGTON, Vt. — Mikaela Shiffrin, the two-ti...            SP          6   \n",
       "3  The actor and environmentalist Leonardo DiCapr...             A         29   \n",
       "4  A blocked pipe sent sewage flooding into at le...             A         21   \n",
       "\n",
       "               source                                         multimedia  \\\n",
       "0  The New York Times  [{'rank': 0, 'subtype': 'xlarge', 'caption': N...   \n",
       "1  The New York Times  [{'rank': 0, 'subtype': 'xlarge', 'caption': N...   \n",
       "2  The New York Times  [{'rank': 0, 'subtype': 'xlarge', 'caption': N...   \n",
       "3  The New York Times  [{'rank': 0, 'subtype': 'xlarge', 'caption': N...   \n",
       "4  The New York Times  [{'rank': 0, 'subtype': 'xlarge', 'caption': N...   \n",
       "\n",
       "                                            keywords  \\\n",
       "0  [{'name': 'subject', 'value': 'Afghanistan War...   \n",
       "1  [{'name': 'subject', 'value': 'Football (Colle...   \n",
       "2  [{'name': 'subject', 'value': 'World Cup (Skii...   \n",
       "3  [{'name': 'subject', 'value': 'Social Media', ...   \n",
       "4  [{'name': 'subject', 'value': 'Sewers and Sewa...   \n",
       "\n",
       "                   pub_date  ...  \\\n",
       "0  2019-12-01T00:15:08+0000  ...   \n",
       "1  2019-12-01T00:33:57+0000  ...   \n",
       "2  2019-12-01T00:37:15+0000  ...   \n",
       "3  2019-12-01T01:03:22+0000  ...   \n",
       "4  2019-12-01T01:47:35+0000  ...   \n",
       "\n",
       "                                       headline.main   headline.kicker  \\\n",
       "0  A Leak-Prone White House Finally Manages to Ke...  White House Memo   \n",
       "1  Justin Fields Has ‘Heisman Moment’ in Ohio Sta...              None   \n",
       "2  Mikaela Shiffrin Learns a New Way to Win: With...              None   \n",
       "3  Leonardo DiCaprio Responds to Brazil’s Preside...              None   \n",
       "4  Cooking Grease Down a Drain Eyed in Sewage Flo...              None   \n",
       "\n",
       "  headline.content_kicker                            headline.print_headline  \\\n",
       "0                    None  Using Canned Tweets and Tight Lips to Make a S...   \n",
       "1                    None  From Medical Tent to a ‘Heisman Moment’: Field...   \n",
       "2                    None  Shiffrin Settles In to New Season  Without Her...   \n",
       "3                    None        Actor Spars With Brazil’s Leader Over Fires   \n",
       "4                    None  Cooking-Grease Clog May Have Caused Sewage to ...   \n",
       "\n",
       "  headline.name headline.seo headline.sub                    byline.original  \\\n",
       "0          None         None         None                 By Michael Crowley   \n",
       "1          None         None         None                     By Jeff Arnold   \n",
       "2          None         None         None                 By Bill Pennington   \n",
       "3          None         None         None                     By Aimee Ortiz   \n",
       "4          None         None         None  By Neil Vigdor and Michael Wilson   \n",
       "\n",
       "                                       byline.person byline.organization  \n",
       "0  [{'firstname': 'Michael', 'middlename': None, ...                None  \n",
       "1  [{'firstname': 'Jeff', 'middlename': None, 'la...                None  \n",
       "2  [{'firstname': 'Bill', 'middlename': None, 'la...                None  \n",
       "3  [{'firstname': 'Aimee', 'middlename': None, 'l...                None  \n",
       "4  [{'firstname': 'Neil', 'middlename': None, 'la...                None  \n",
       "\n",
       "[5 rows x 28 columns]"
      ]
     },
     "execution_count": 11,
     "metadata": {},
     "output_type": "execute_result"
    }
   ],
   "source": [
    "df.head()"
   ]
  },
  {
   "cell_type": "code",
   "execution_count": 12,
   "metadata": {},
   "outputs": [
    {
     "data": {
      "text/plain": [
       "Index(['abstract', 'web_url', 'snippet', 'lead_paragraph', 'print_section',\n",
       "       'print_page', 'source', 'multimedia', 'keywords', 'pub_date',\n",
       "       'document_type', 'news_desk', 'section_name', 'subsection_name',\n",
       "       'type_of_material', '_id', 'word_count', 'uri', 'headline.main',\n",
       "       'headline.kicker', 'headline.content_kicker', 'headline.print_headline',\n",
       "       'headline.name', 'headline.seo', 'headline.sub', 'byline.original',\n",
       "       'byline.person', 'byline.organization'],\n",
       "      dtype='object')"
      ]
     },
     "execution_count": 12,
     "metadata": {},
     "output_type": "execute_result"
    }
   ],
   "source": [
    "df.columns"
   ]
  },
  {
   "cell_type": "code",
   "execution_count": 13,
   "metadata": {},
   "outputs": [
    {
     "name": "stdout",
     "output_type": "stream",
     "text": [
      "<class 'pandas.core.frame.DataFrame'>\n",
      "RangeIndex: 242020 entries, 0 to 242019\n",
      "Data columns (total 28 columns):\n",
      " #   Column                   Non-Null Count   Dtype \n",
      "---  ------                   --------------   ----- \n",
      " 0   abstract                 242020 non-null  object\n",
      " 1   web_url                  242020 non-null  object\n",
      " 2   snippet                  242020 non-null  object\n",
      " 3   lead_paragraph           242020 non-null  object\n",
      " 4   print_section            160315 non-null  object\n",
      " 5   print_page               160324 non-null  object\n",
      " 6   source                   242020 non-null  object\n",
      " 7   multimedia               242020 non-null  object\n",
      " 8   keywords                 242020 non-null  object\n",
      " 9   pub_date                 242020 non-null  object\n",
      " 10  document_type            242020 non-null  object\n",
      " 11  news_desk                242020 non-null  object\n",
      " 12  section_name             242020 non-null  object\n",
      " 13  subsection_name          105197 non-null  object\n",
      " 14  type_of_material         242020 non-null  object\n",
      " 15  _id                      242020 non-null  object\n",
      " 16  word_count               242020 non-null  object\n",
      " 17  uri                      242020 non-null  object\n",
      " 18  headline.main            242020 non-null  object\n",
      " 19  headline.kicker          83759 non-null   object\n",
      " 20  headline.content_kicker  0 non-null       object\n",
      " 21  headline.print_headline  242020 non-null  object\n",
      " 22  headline.name            0 non-null       object\n",
      " 23  headline.seo             0 non-null       object\n",
      " 24  headline.sub             0 non-null       object\n",
      " 25  byline.original          242020 non-null  object\n",
      " 26  byline.person            242020 non-null  object\n",
      " 27  byline.organization      7463 non-null    object\n",
      "dtypes: object(28)\n",
      "memory usage: 51.7+ MB\n"
     ]
    }
   ],
   "source": [
    "df.info()"
   ]
  },
  {
   "cell_type": "code",
   "execution_count": 14,
   "metadata": {},
   "outputs": [
    {
     "data": {
      "text/plain": [
       "(242020, 28)"
      ]
     },
     "execution_count": 14,
     "metadata": {},
     "output_type": "execute_result"
    }
   ],
   "source": [
    "df.shape"
   ]
  },
  {
   "cell_type": "markdown",
   "metadata": {},
   "source": [
    "# Export Data"
   ]
  },
  {
   "cell_type": "code",
   "execution_count": 15,
   "metadata": {},
   "outputs": [],
   "source": [
    "df.to_csv(\"news_data/archive_data.csv\", index=False)"
   ]
  },
  {
   "cell_type": "code",
   "execution_count": null,
   "metadata": {},
   "outputs": [],
   "source": []
  }
 ],
 "metadata": {
  "kernelspec": {
   "display_name": "nlp",
   "language": "python",
   "name": "python3"
  },
  "language_info": {
   "codemirror_mode": {
    "name": "ipython",
    "version": 3
   },
   "file_extension": ".py",
   "mimetype": "text/x-python",
   "name": "python",
   "nbconvert_exporter": "python",
   "pygments_lexer": "ipython3",
   "version": "3.11.5"
  }
 },
 "nbformat": 4,
 "nbformat_minor": 2
}
