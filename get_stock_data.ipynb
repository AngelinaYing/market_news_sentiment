{
  "cells": [
    {
      "cell_type": "code",
      "execution_count": 1,
      "metadata": {
        "id": "6e63wtSTBMJK"
      },
      "outputs": [],
      "source": [
        "!pip install -q yfinance"
      ]
    },
    {
      "cell_type": "code",
      "execution_count": 1,
      "metadata": {
        "colab": {
          "base_uri": "https://localhost:8080/",
          "height": 884
        },
        "id": "jNazMutIBPmE",
        "outputId": "5a5f887a-a122-4045-b76e-91bb121dd679"
      },
      "outputs": [],
      "source": [
        "import yfinance as yf\n",
        "yf.pdr_override()\n",
        "import pandas as pd\n",
        "import numpy as np\n",
        "from datetime import datetime"
      ]
    },
    {
      "cell_type": "code",
      "execution_count": 5,
      "metadata": {},
      "outputs": [
        {
          "name": "stdout",
          "output_type": "stream",
          "text": [
            "[*********************100%%**********************]  1 of 1 completed\n"
          ]
        }
      ],
      "source": [
        "stock = 'AAPL'\n",
        "start = datetime(2016,1,1)\n",
        "end = datetime(2019,12,31)\n",
        "df = yf.download(stock, start, end)"
      ]
    },
    {
      "cell_type": "code",
      "execution_count": 7,
      "metadata": {},
      "outputs": [],
      "source": [
        "df['Change'] = df['Close'] - df['Open']\n",
        "df.reset_index(inplace=True)\n",
        "df = df.drop(['Open', 'High', 'Low', 'Close', 'Adj Close'], axis=1)"
      ]
    },
    {
      "cell_type": "code",
      "execution_count": 8,
      "metadata": {},
      "outputs": [
        {
          "data": {
            "text/html": [
              "<div>\n",
              "<style scoped>\n",
              "    .dataframe tbody tr th:only-of-type {\n",
              "        vertical-align: middle;\n",
              "    }\n",
              "\n",
              "    .dataframe tbody tr th {\n",
              "        vertical-align: top;\n",
              "    }\n",
              "\n",
              "    .dataframe thead th {\n",
              "        text-align: right;\n",
              "    }\n",
              "</style>\n",
              "<table border=\"1\" class=\"dataframe\">\n",
              "  <thead>\n",
              "    <tr style=\"text-align: right;\">\n",
              "      <th></th>\n",
              "      <th>Date</th>\n",
              "      <th>Volume</th>\n",
              "      <th>Change</th>\n",
              "    </tr>\n",
              "  </thead>\n",
              "  <tbody>\n",
              "    <tr>\n",
              "      <th>0</th>\n",
              "      <td>2016-01-04</td>\n",
              "      <td>270597600</td>\n",
              "      <td>0.684999</td>\n",
              "    </tr>\n",
              "    <tr>\n",
              "      <th>1</th>\n",
              "      <td>2016-01-05</td>\n",
              "      <td>223164000</td>\n",
              "      <td>-0.760000</td>\n",
              "    </tr>\n",
              "    <tr>\n",
              "      <th>2</th>\n",
              "      <td>2016-01-06</td>\n",
              "      <td>273829600</td>\n",
              "      <td>0.035000</td>\n",
              "    </tr>\n",
              "    <tr>\n",
              "      <th>3</th>\n",
              "      <td>2016-01-07</td>\n",
              "      <td>324377600</td>\n",
              "      <td>-0.557501</td>\n",
              "    </tr>\n",
              "    <tr>\n",
              "      <th>4</th>\n",
              "      <td>2016-01-08</td>\n",
              "      <td>283192000</td>\n",
              "      <td>-0.397501</td>\n",
              "    </tr>\n",
              "    <tr>\n",
              "      <th>...</th>\n",
              "      <td>...</td>\n",
              "      <td>...</td>\n",
              "      <td>...</td>\n",
              "    </tr>\n",
              "    <tr>\n",
              "      <th>1000</th>\n",
              "      <td>2019-12-23</td>\n",
              "      <td>98572000</td>\n",
              "      <td>0.867500</td>\n",
              "    </tr>\n",
              "    <tr>\n",
              "      <th>1001</th>\n",
              "      <td>2019-12-24</td>\n",
              "      <td>48478800</td>\n",
              "      <td>-0.105003</td>\n",
              "    </tr>\n",
              "    <tr>\n",
              "      <th>1002</th>\n",
              "      <td>2019-12-26</td>\n",
              "      <td>93121200</td>\n",
              "      <td>1.272499</td>\n",
              "    </tr>\n",
              "    <tr>\n",
              "      <th>1003</th>\n",
              "      <td>2019-12-27</td>\n",
              "      <td>146266000</td>\n",
              "      <td>-0.330002</td>\n",
              "    </tr>\n",
              "    <tr>\n",
              "      <th>1004</th>\n",
              "      <td>2019-12-30</td>\n",
              "      <td>144114400</td>\n",
              "      <td>0.514999</td>\n",
              "    </tr>\n",
              "  </tbody>\n",
              "</table>\n",
              "<p>1005 rows × 3 columns</p>\n",
              "</div>"
            ],
            "text/plain": [
              "           Date     Volume    Change\n",
              "0    2016-01-04  270597600  0.684999\n",
              "1    2016-01-05  223164000 -0.760000\n",
              "2    2016-01-06  273829600  0.035000\n",
              "3    2016-01-07  324377600 -0.557501\n",
              "4    2016-01-08  283192000 -0.397501\n",
              "...         ...        ...       ...\n",
              "1000 2019-12-23   98572000  0.867500\n",
              "1001 2019-12-24   48478800 -0.105003\n",
              "1002 2019-12-26   93121200  1.272499\n",
              "1003 2019-12-27  146266000 -0.330002\n",
              "1004 2019-12-30  144114400  0.514999\n",
              "\n",
              "[1005 rows x 3 columns]"
            ]
          },
          "execution_count": 8,
          "metadata": {},
          "output_type": "execute_result"
        }
      ],
      "source": [
        "df"
      ]
    },
    {
      "cell_type": "code",
      "execution_count": 9,
      "metadata": {},
      "outputs": [
        {
          "data": {
            "text/html": [
              "<div>\n",
              "<style scoped>\n",
              "    .dataframe tbody tr th:only-of-type {\n",
              "        vertical-align: middle;\n",
              "    }\n",
              "\n",
              "    .dataframe tbody tr th {\n",
              "        vertical-align: top;\n",
              "    }\n",
              "\n",
              "    .dataframe thead th {\n",
              "        text-align: right;\n",
              "    }\n",
              "</style>\n",
              "<table border=\"1\" class=\"dataframe\">\n",
              "  <thead>\n",
              "    <tr style=\"text-align: right;\">\n",
              "      <th></th>\n",
              "      <th>Date</th>\n",
              "      <th>Volume</th>\n",
              "      <th>Change</th>\n",
              "    </tr>\n",
              "  </thead>\n",
              "  <tbody>\n",
              "    <tr>\n",
              "      <th>count</th>\n",
              "      <td>1005</td>\n",
              "      <td>1.005000e+03</td>\n",
              "      <td>1005.000000</td>\n",
              "    </tr>\n",
              "    <tr>\n",
              "      <th>mean</th>\n",
              "      <td>2017-12-30 23:39:56.417910528</td>\n",
              "      <td>1.276451e+08</td>\n",
              "      <td>0.032366</td>\n",
              "    </tr>\n",
              "    <tr>\n",
              "      <th>min</th>\n",
              "      <td>2016-01-04 00:00:00</td>\n",
              "      <td>4.544800e+07</td>\n",
              "      <td>-2.275002</td>\n",
              "    </tr>\n",
              "    <tr>\n",
              "      <th>25%</th>\n",
              "      <td>2016-12-30 00:00:00</td>\n",
              "      <td>8.901480e+07</td>\n",
              "      <td>-0.187500</td>\n",
              "    </tr>\n",
              "    <tr>\n",
              "      <th>50%</th>\n",
              "      <td>2017-12-29 00:00:00</td>\n",
              "      <td>1.113416e+08</td>\n",
              "      <td>0.042500</td>\n",
              "    </tr>\n",
              "    <tr>\n",
              "      <th>75%</th>\n",
              "      <td>2018-12-31 00:00:00</td>\n",
              "      <td>1.461896e+08</td>\n",
              "      <td>0.265003</td>\n",
              "    </tr>\n",
              "    <tr>\n",
              "      <th>max</th>\n",
              "      <td>2019-12-30 00:00:00</td>\n",
              "      <td>5.334788e+08</td>\n",
              "      <td>2.217499</td>\n",
              "    </tr>\n",
              "    <tr>\n",
              "      <th>std</th>\n",
              "      <td>NaN</td>\n",
              "      <td>5.776264e+07</td>\n",
              "      <td>0.470984</td>\n",
              "    </tr>\n",
              "  </tbody>\n",
              "</table>\n",
              "</div>"
            ],
            "text/plain": [
              "                                Date        Volume       Change\n",
              "count                           1005  1.005000e+03  1005.000000\n",
              "mean   2017-12-30 23:39:56.417910528  1.276451e+08     0.032366\n",
              "min              2016-01-04 00:00:00  4.544800e+07    -2.275002\n",
              "25%              2016-12-30 00:00:00  8.901480e+07    -0.187500\n",
              "50%              2017-12-29 00:00:00  1.113416e+08     0.042500\n",
              "75%              2018-12-31 00:00:00  1.461896e+08     0.265003\n",
              "max              2019-12-30 00:00:00  5.334788e+08     2.217499\n",
              "std                              NaN  5.776264e+07     0.470984"
            ]
          },
          "execution_count": 9,
          "metadata": {},
          "output_type": "execute_result"
        }
      ],
      "source": [
        "df.describe()"
      ]
    },
    {
      "cell_type": "code",
      "execution_count": 10,
      "metadata": {},
      "outputs": [],
      "source": [
        "import os\n",
        "if not os.path.exists(\"stock_data\"):\n",
        "    os.makedirs(\"stock_data\")\n",
        "df.to_csv(\"stock_data/AAPL_stock.csv\", index=False)"
      ]
    },
    {
      "cell_type": "code",
      "execution_count": null,
      "metadata": {},
      "outputs": [],
      "source": []
    }
  ],
  "metadata": {
    "colab": {
      "provenance": []
    },
    "kernelspec": {
      "display_name": "Python 3",
      "name": "python3"
    },
    "language_info": {
      "codemirror_mode": {
        "name": "ipython",
        "version": 3
      },
      "file_extension": ".py",
      "mimetype": "text/x-python",
      "name": "python",
      "nbconvert_exporter": "python",
      "pygments_lexer": "ipython3",
      "version": "3.11.5"
    }
  },
  "nbformat": 4,
  "nbformat_minor": 0
}
