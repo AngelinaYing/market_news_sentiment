{
  "cells": [
    {
      "cell_type": "code",
      "execution_count": 1,
      "metadata": {
        "id": "6e63wtSTBMJK"
      },
      "outputs": [],
      "source": [
        "!pip install -q yfinance"
      ]
    },
    {
      "cell_type": "code",
      "execution_count": 2,
      "metadata": {
        "colab": {
          "base_uri": "https://localhost:8080/",
          "height": 884
        },
        "id": "jNazMutIBPmE",
        "outputId": "5a5f887a-a122-4045-b76e-91bb121dd679"
      },
      "outputs": [],
      "source": [
        "import yfinance as yf\n",
        "yf.pdr_override()\n",
        "import pandas as pd\n",
        "import numpy as np\n",
        "from datetime import datetime\n",
        "from sklearn.preprocessing import StandardScaler\n"
      ]
    },
    {
      "cell_type": "code",
      "execution_count": 3,
      "metadata": {},
      "outputs": [
        {
          "name": "stdout",
          "output_type": "stream",
          "text": [
            "[*********************100%%**********************]  1 of 1 completed\n"
          ]
        }
      ],
      "source": [
        "stock = '^GSPC'\n",
        "start = datetime(2016,1,1)\n",
        "end = datetime(2019,12,31)\n",
        "df = yf.download(stock, start, end)"
      ]
    },
    {
      "cell_type": "code",
      "execution_count": 5,
      "metadata": {},
      "outputs": [
        {
          "name": "stderr",
          "output_type": "stream",
          "text": [
            "/Users/ange/opt/anaconda3/envs/nlp/lib/python3.11/site-packages/sklearn/utils/validation.py:767: FutureWarning: is_sparse is deprecated and will be removed in a future version. Check `isinstance(dtype, pd.SparseDtype)` instead.\n",
            "  if not hasattr(array, \"sparse\") and array.dtypes.apply(is_sparse).any():\n",
            "/Users/ange/opt/anaconda3/envs/nlp/lib/python3.11/site-packages/sklearn/utils/validation.py:605: FutureWarning: is_sparse is deprecated and will be removed in a future version. Check `isinstance(dtype, pd.SparseDtype)` instead.\n",
            "  if is_sparse(pd_dtype):\n",
            "/Users/ange/opt/anaconda3/envs/nlp/lib/python3.11/site-packages/sklearn/utils/validation.py:614: FutureWarning: is_sparse is deprecated and will be removed in a future version. Check `isinstance(dtype, pd.SparseDtype)` instead.\n",
            "  if is_sparse(pd_dtype) or not is_extension_array_dtype(pd_dtype):\n",
            "/Users/ange/opt/anaconda3/envs/nlp/lib/python3.11/site-packages/sklearn/utils/validation.py:767: FutureWarning: is_sparse is deprecated and will be removed in a future version. Check `isinstance(dtype, pd.SparseDtype)` instead.\n",
            "  if not hasattr(array, \"sparse\") and array.dtypes.apply(is_sparse).any():\n",
            "/Users/ange/opt/anaconda3/envs/nlp/lib/python3.11/site-packages/sklearn/utils/validation.py:605: FutureWarning: is_sparse is deprecated and will be removed in a future version. Check `isinstance(dtype, pd.SparseDtype)` instead.\n",
            "  if is_sparse(pd_dtype):\n",
            "/Users/ange/opt/anaconda3/envs/nlp/lib/python3.11/site-packages/sklearn/utils/validation.py:614: FutureWarning: is_sparse is deprecated and will be removed in a future version. Check `isinstance(dtype, pd.SparseDtype)` instead.\n",
            "  if is_sparse(pd_dtype) or not is_extension_array_dtype(pd_dtype):\n"
          ]
        }
      ],
      "source": [
        "df['Change'] = df['Close'] - df['Open']\n",
        "df.reset_index(inplace=True)\n",
        "scaler = StandardScaler()\n",
        "numeric_columns = ['Volume', 'Change']\n",
        "df[numeric_columns] = scaler.fit_transform(df[numeric_columns])\n",
        "df = df.drop(['Open', 'High', 'Low', 'Close', 'Adj Close'], axis=1)"
      ]
    },
    {
      "cell_type": "code",
      "execution_count": 6,
      "metadata": {},
      "outputs": [
        {
          "data": {
            "text/html": [
              "<div>\n",
              "<style scoped>\n",
              "    .dataframe tbody tr th:only-of-type {\n",
              "        vertical-align: middle;\n",
              "    }\n",
              "\n",
              "    .dataframe tbody tr th {\n",
              "        vertical-align: top;\n",
              "    }\n",
              "\n",
              "    .dataframe thead th {\n",
              "        text-align: right;\n",
              "    }\n",
              "</style>\n",
              "<table border=\"1\" class=\"dataframe\">\n",
              "  <thead>\n",
              "    <tr style=\"text-align: right;\">\n",
              "      <th></th>\n",
              "      <th>Date</th>\n",
              "      <th>Volume</th>\n",
              "      <th>Change</th>\n",
              "    </tr>\n",
              "  </thead>\n",
              "  <tbody>\n",
              "    <tr>\n",
              "      <th>0</th>\n",
              "      <td>2016-01-04</td>\n",
              "      <td>0.995004</td>\n",
              "      <td>-1.479400</td>\n",
              "    </tr>\n",
              "    <tr>\n",
              "      <th>1</th>\n",
              "      <td>2016-01-05</td>\n",
              "      <td>0.112543</td>\n",
              "      <td>0.148396</td>\n",
              "    </tr>\n",
              "    <tr>\n",
              "      <th>2</th>\n",
              "      <td>2016-01-06</td>\n",
              "      <td>1.041881</td>\n",
              "      <td>-1.245552</td>\n",
              "    </tr>\n",
              "    <tr>\n",
              "      <th>3</th>\n",
              "      <td>2016-01-07</td>\n",
              "      <td>2.133313</td>\n",
              "      <td>-2.433673</td>\n",
              "    </tr>\n",
              "    <tr>\n",
              "      <th>4</th>\n",
              "      <td>2016-01-08</td>\n",
              "      <td>1.526110</td>\n",
              "      <td>-1.387920</td>\n",
              "    </tr>\n",
              "    <tr>\n",
              "      <th>...</th>\n",
              "      <td>...</td>\n",
              "      <td>...</td>\n",
              "      <td>...</td>\n",
              "    </tr>\n",
              "    <tr>\n",
              "      <th>1000</th>\n",
              "      <td>2019-12-23</td>\n",
              "      <td>-0.834570</td>\n",
              "      <td>-0.135768</td>\n",
              "    </tr>\n",
              "    <tr>\n",
              "      <th>1001</th>\n",
              "      <td>2019-12-24</td>\n",
              "      <td>-3.442452</td>\n",
              "      <td>-0.137485</td>\n",
              "    </tr>\n",
              "    <tr>\n",
              "      <th>1002</th>\n",
              "      <td>2019-12-26</td>\n",
              "      <td>-2.162097</td>\n",
              "      <td>0.707580</td>\n",
              "    </tr>\n",
              "    <tr>\n",
              "      <th>1003</th>\n",
              "      <td>2019-12-27</td>\n",
              "      <td>-1.771785</td>\n",
              "      <td>-0.431364</td>\n",
              "    </tr>\n",
              "    <tr>\n",
              "      <th>1004</th>\n",
              "      <td>2019-12-30</td>\n",
              "      <td>-0.897717</td>\n",
              "      <td>-1.094040</td>\n",
              "    </tr>\n",
              "  </tbody>\n",
              "</table>\n",
              "<p>1005 rows × 3 columns</p>\n",
              "</div>"
            ],
            "text/plain": [
              "           Date    Volume    Change\n",
              "0    2016-01-04  0.995004 -1.479400\n",
              "1    2016-01-05  0.112543  0.148396\n",
              "2    2016-01-06  1.041881 -1.245552\n",
              "3    2016-01-07  2.133313 -2.433673\n",
              "4    2016-01-08  1.526110 -1.387920\n",
              "...         ...       ...       ...\n",
              "1000 2019-12-23 -0.834570 -0.135768\n",
              "1001 2019-12-24 -3.442452 -0.137485\n",
              "1002 2019-12-26 -2.162097  0.707580\n",
              "1003 2019-12-27 -1.771785 -0.431364\n",
              "1004 2019-12-30 -0.897717 -1.094040\n",
              "\n",
              "[1005 rows x 3 columns]"
            ]
          },
          "execution_count": 6,
          "metadata": {},
          "output_type": "execute_result"
        }
      ],
      "source": [
        "df"
      ]
    },
    {
      "cell_type": "code",
      "execution_count": 7,
      "metadata": {},
      "outputs": [
        {
          "data": {
            "text/html": [
              "<div>\n",
              "<style scoped>\n",
              "    .dataframe tbody tr th:only-of-type {\n",
              "        vertical-align: middle;\n",
              "    }\n",
              "\n",
              "    .dataframe tbody tr th {\n",
              "        vertical-align: top;\n",
              "    }\n",
              "\n",
              "    .dataframe thead th {\n",
              "        text-align: right;\n",
              "    }\n",
              "</style>\n",
              "<table border=\"1\" class=\"dataframe\">\n",
              "  <thead>\n",
              "    <tr style=\"text-align: right;\">\n",
              "      <th></th>\n",
              "      <th>Date</th>\n",
              "      <th>Volume</th>\n",
              "      <th>Change</th>\n",
              "    </tr>\n",
              "  </thead>\n",
              "  <tbody>\n",
              "    <tr>\n",
              "      <th>count</th>\n",
              "      <td>1005</td>\n",
              "      <td>1.005000e+03</td>\n",
              "      <td>1.005000e+03</td>\n",
              "    </tr>\n",
              "    <tr>\n",
              "      <th>mean</th>\n",
              "      <td>2017-12-30 23:39:56.417910528</td>\n",
              "      <td>4.242046e-17</td>\n",
              "      <td>1.944271e-17</td>\n",
              "    </tr>\n",
              "    <tr>\n",
              "      <th>min</th>\n",
              "      <td>2016-01-04 00:00:00</td>\n",
              "      <td>-3.442452e+00</td>\n",
              "      <td>-5.966016e+00</td>\n",
              "    </tr>\n",
              "    <tr>\n",
              "      <th>25%</th>\n",
              "      <td>2016-12-30 00:00:00</td>\n",
              "      <td>-5.723508e-01</td>\n",
              "      <td>-3.650447e-01</td>\n",
              "    </tr>\n",
              "    <tr>\n",
              "      <th>50%</th>\n",
              "      <td>2017-12-29 00:00:00</td>\n",
              "      <td>-1.553993e-01</td>\n",
              "      <td>4.148377e-02</td>\n",
              "    </tr>\n",
              "    <tr>\n",
              "      <th>75%</th>\n",
              "      <td>2018-12-31 00:00:00</td>\n",
              "      <td>3.731099e-01</td>\n",
              "      <td>4.674432e-01</td>\n",
              "    </tr>\n",
              "    <tr>\n",
              "      <th>max</th>\n",
              "      <td>2019-12-30 00:00:00</td>\n",
              "      <td>5.940851e+00</td>\n",
              "      <td>5.960344e+00</td>\n",
              "    </tr>\n",
              "    <tr>\n",
              "      <th>std</th>\n",
              "      <td>NaN</td>\n",
              "      <td>1.000498e+00</td>\n",
              "      <td>1.000498e+00</td>\n",
              "    </tr>\n",
              "  </tbody>\n",
              "</table>\n",
              "</div>"
            ],
            "text/plain": [
              "                                Date        Volume        Change\n",
              "count                           1005  1.005000e+03  1.005000e+03\n",
              "mean   2017-12-30 23:39:56.417910528  4.242046e-17  1.944271e-17\n",
              "min              2016-01-04 00:00:00 -3.442452e+00 -5.966016e+00\n",
              "25%              2016-12-30 00:00:00 -5.723508e-01 -3.650447e-01\n",
              "50%              2017-12-29 00:00:00 -1.553993e-01  4.148377e-02\n",
              "75%              2018-12-31 00:00:00  3.731099e-01  4.674432e-01\n",
              "max              2019-12-30 00:00:00  5.940851e+00  5.960344e+00\n",
              "std                              NaN  1.000498e+00  1.000498e+00"
            ]
          },
          "execution_count": 7,
          "metadata": {},
          "output_type": "execute_result"
        }
      ],
      "source": [
        "df.describe()"
      ]
    },
    {
      "cell_type": "code",
      "execution_count": 8,
      "metadata": {},
      "outputs": [],
      "source": [
        "import os\n",
        "if not os.path.exists(\"stock_data\"):\n",
        "    os.makedirs(\"stock_data\")\n",
        "df.to_csv(\"stock_data/^GSPC_stock.csv\", index=False)"
      ]
    },
    {
      "cell_type": "code",
      "execution_count": null,
      "metadata": {},
      "outputs": [],
      "source": []
    }
  ],
  "metadata": {
    "colab": {
      "provenance": []
    },
    "kernelspec": {
      "display_name": "Python 3",
      "name": "python3"
    },
    "language_info": {
      "codemirror_mode": {
        "name": "ipython",
        "version": 3
      },
      "file_extension": ".py",
      "mimetype": "text/x-python",
      "name": "python",
      "nbconvert_exporter": "python",
      "pygments_lexer": "ipython3",
      "version": "3.11.5"
    }
  },
  "nbformat": 4,
  "nbformat_minor": 0
}
